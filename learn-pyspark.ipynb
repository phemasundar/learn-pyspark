{
 "cells": [
  {
   "cell_type": "markdown",
   "id": "edaef53a-f98e-4e51-abaa-7bbd848cc6b2",
   "metadata": {},
   "source": [
    "# Learn PySpark\n",
    "https://youtu.be/_C8kWso4ne4?si=-FEu8RoK0MwmF8nT"
   ]
  },
  {
   "cell_type": "markdown",
   "id": "98747ede-1d8d-4e1b-9caf-1ea33f37db2a",
   "metadata": {},
   "source": [
    "PySpark Documentation:\n",
    "https://spark.apache.org/docs/latest/api/python/index.html"
   ]
  },
  {
   "cell_type": "code",
   "execution_count": 1,
   "id": "4ed50ec1-66cf-4bee-bfe3-19f6007ab109",
   "metadata": {},
   "outputs": [],
   "source": [
    "# Install PySpark, pandas & numpy\n",
    "# !pip3 install pyspark\n",
    "# !pip3 install pandas\n",
    "# !pip3 install numpy"
   ]
  },
  {
   "cell_type": "code",
   "execution_count": 2,
   "id": "8823a06b-ea8f-48dd-a39b-0ee179d81023",
   "metadata": {},
   "outputs": [],
   "source": [
    "import pyspark\n",
    "import pandas as pd\n",
    "import numpy as np"
   ]
  },
  {
   "cell_type": "markdown",
   "id": "99314704-086a-4265-a784-d0fdc3cf28b0",
   "metadata": {},
   "source": [
    "**Precondition:** We have create a sample csv file with name & age columns with name \"test1.csv\" in the current folder"
   ]
  },
  {
   "cell_type": "code",
   "execution_count": 3,
   "id": "75f53b90-e142-4b9d-a112-05de7a11f6ee",
   "metadata": {},
   "outputs": [
    {
     "data": {
      "text/html": [
       "<div>\n",
       "<style scoped>\n",
       "    .dataframe tbody tr th:only-of-type {\n",
       "        vertical-align: middle;\n",
       "    }\n",
       "\n",
       "    .dataframe tbody tr th {\n",
       "        vertical-align: top;\n",
       "    }\n",
       "\n",
       "    .dataframe thead th {\n",
       "        text-align: right;\n",
       "    }\n",
       "</style>\n",
       "<table border=\"1\" class=\"dataframe\">\n",
       "  <thead>\n",
       "    <tr style=\"text-align: right;\">\n",
       "      <th></th>\n",
       "      <th>Name</th>\n",
       "      <th>age</th>\n",
       "      <th>Experience</th>\n",
       "      <th>Salary</th>\n",
       "    </tr>\n",
       "  </thead>\n",
       "  <tbody>\n",
       "    <tr>\n",
       "      <th>0</th>\n",
       "      <td>Krish</td>\n",
       "      <td>31</td>\n",
       "      <td>10</td>\n",
       "      <td>30000</td>\n",
       "    </tr>\n",
       "    <tr>\n",
       "      <th>1</th>\n",
       "      <td>Sudhanshu</td>\n",
       "      <td>30</td>\n",
       "      <td>8</td>\n",
       "      <td>25000</td>\n",
       "    </tr>\n",
       "    <tr>\n",
       "      <th>2</th>\n",
       "      <td>Sunny</td>\n",
       "      <td>29</td>\n",
       "      <td>4</td>\n",
       "      <td>20000</td>\n",
       "    </tr>\n",
       "    <tr>\n",
       "      <th>3</th>\n",
       "      <td>Paul</td>\n",
       "      <td>24</td>\n",
       "      <td>3</td>\n",
       "      <td>20000</td>\n",
       "    </tr>\n",
       "    <tr>\n",
       "      <th>4</th>\n",
       "      <td>Harsha</td>\n",
       "      <td>21</td>\n",
       "      <td>1</td>\n",
       "      <td>15000</td>\n",
       "    </tr>\n",
       "    <tr>\n",
       "      <th>5</th>\n",
       "      <td>Shubham</td>\n",
       "      <td>23</td>\n",
       "      <td>2</td>\n",
       "      <td>18000</td>\n",
       "    </tr>\n",
       "  </tbody>\n",
       "</table>\n",
       "</div>"
      ],
      "text/plain": [
       "        Name  age  Experience  Salary\n",
       "0      Krish   31          10   30000\n",
       "1  Sudhanshu   30           8   25000\n",
       "2      Sunny   29           4   20000\n",
       "3       Paul   24           3   20000\n",
       "4     Harsha   21           1   15000\n",
       "5    Shubham   23           2   18000"
      ]
     },
     "execution_count": 3,
     "metadata": {},
     "output_type": "execute_result"
    }
   ],
   "source": [
    "# Read csv file using pandas\n",
    "df_pandas = pd.read_csv(\"test_data/test1.csv\")\n",
    "df_pandas"
   ]
  },
  {
   "cell_type": "code",
   "execution_count": 4,
   "id": "87d31ee5-b6a0-489e-b578-78d353af9c94",
   "metadata": {},
   "outputs": [
    {
     "data": {
      "text/plain": [
       "pandas.core.frame.DataFrame"
      ]
     },
     "execution_count": 4,
     "metadata": {},
     "output_type": "execute_result"
    }
   ],
   "source": [
    "type(df_pandas)"
   ]
  },
  {
   "cell_type": "markdown",
   "id": "5d42bce0-31fb-46a9-ba68-da63906aa10d",
   "metadata": {},
   "source": [
    "## start a spark session"
   ]
  },
  {
   "cell_type": "code",
   "execution_count": 5,
   "id": "ac2d2a87-5656-451a-af88-bc55fc946fbe",
   "metadata": {},
   "outputs": [],
   "source": [
    "from pyspark.sql import SparkSession"
   ]
  },
  {
   "cell_type": "code",
   "execution_count": 6,
   "id": "4d171bc5-8e82-4765-a680-9ecaabfcd107",
   "metadata": {},
   "outputs": [
    {
     "name": "stderr",
     "output_type": "stream",
     "text": [
      "Setting default log level to \"WARN\".\n",
      "To adjust logging level use sc.setLogLevel(newLevel). For SparkR, use setLogLevel(newLevel).\n",
      "23/11/07 13:27:44 WARN NativeCodeLoader: Unable to load native-hadoop library for your platform... using builtin-java classes where applicable\n"
     ]
    }
   ],
   "source": [
    "spark = SparkSession.builder.appName(\"learn-pyspark\").getOrCreate()"
   ]
  },
  {
   "cell_type": "code",
   "execution_count": 7,
   "id": "4af50916-bf91-4615-b057-c97b25645cea",
   "metadata": {},
   "outputs": [
    {
     "data": {
      "text/html": [
       "\n",
       "            <div>\n",
       "                <p><b>SparkSession - in-memory</b></p>\n",
       "                \n",
       "        <div>\n",
       "            <p><b>SparkContext</b></p>\n",
       "\n",
       "            <p><a href=\"http://192.168.29.225:4040\">Spark UI</a></p>\n",
       "\n",
       "            <dl>\n",
       "              <dt>Version</dt>\n",
       "                <dd><code>v3.5.0</code></dd>\n",
       "              <dt>Master</dt>\n",
       "                <dd><code>local[*]</code></dd>\n",
       "              <dt>AppName</dt>\n",
       "                <dd><code>learn-pyspark</code></dd>\n",
       "            </dl>\n",
       "        </div>\n",
       "        \n",
       "            </div>\n",
       "        "
      ],
      "text/plain": [
       "<pyspark.sql.session.SparkSession at 0x11afd28b0>"
      ]
     },
     "execution_count": 7,
     "metadata": {},
     "output_type": "execute_result"
    }
   ],
   "source": [
    "spark"
   ]
  },
  {
   "cell_type": "markdown",
   "id": "c4aeb016-d865-4c57-8045-cb524989507b",
   "metadata": {},
   "source": [
    "### Read CSV without any options"
   ]
  },
  {
   "cell_type": "markdown",
   "id": "dc061feb-9652-490a-8607-c43bd3882f09",
   "metadata": {},
   "source": [
    "**Note:**\n",
    "Not mentioned InferSchema -- all column types as String\n",
    "Not mentioned header row -- default column names as _c0, _c1 etc...\n"
   ]
  },
  {
   "cell_type": "code",
   "execution_count": 8,
   "id": "8c68d452-c694-44a2-bf5a-84a484cef5ea",
   "metadata": {},
   "outputs": [
    {
     "data": {
      "text/plain": [
       "DataFrame[_c0: string, _c1: string, _c2: string, _c3: string]"
      ]
     },
     "execution_count": 8,
     "metadata": {},
     "output_type": "execute_result"
    }
   ],
   "source": [
    "df_pyspark = spark.read.csv(\"test_data/test1.csv\")\n",
    "df_pyspark"
   ]
  },
  {
   "cell_type": "code",
   "execution_count": 9,
   "id": "61860fac-942e-4e54-a084-c3126273b911",
   "metadata": {},
   "outputs": [
    {
     "name": "stdout",
     "output_type": "stream",
     "text": [
      "+---------+---+----------+------+\n",
      "|      _c0|_c1|       _c2|   _c3|\n",
      "+---------+---+----------+------+\n",
      "|     Name|age|Experience|Salary|\n",
      "|    Krish| 31|        10| 30000|\n",
      "|Sudhanshu| 30|         8| 25000|\n",
      "|    Sunny| 29|         4| 20000|\n",
      "|     Paul| 24|         3| 20000|\n",
      "|   Harsha| 21|         1| 15000|\n",
      "|  Shubham| 23|         2| 18000|\n",
      "+---------+---+----------+------+\n",
      "\n"
     ]
    }
   ],
   "source": [
    "df_pyspark.show()"
   ]
  },
  {
   "cell_type": "code",
   "execution_count": 10,
   "id": "7f7205f6-62b1-4027-83a9-5f0d5f29118f",
   "metadata": {},
   "outputs": [
    {
     "data": {
      "text/plain": [
       "pyspark.sql.dataframe.DataFrame"
      ]
     },
     "execution_count": 10,
     "metadata": {},
     "output_type": "execute_result"
    }
   ],
   "source": [
    "type(df_pyspark)"
   ]
  },
  {
   "cell_type": "markdown",
   "id": "6dbcd158-aafb-46f4-838c-83d57f868480",
   "metadata": {},
   "source": [
    "### Read csv with first row as header"
   ]
  },
  {
   "cell_type": "code",
   "execution_count": 11,
   "id": "499e1759-a062-473f-a5c5-df4ffb3fa698",
   "metadata": {},
   "outputs": [],
   "source": [
    "df_pyspark = spark.read.option(\"header\", \"true\").csv(\"test_data/test1.csv\")"
   ]
  },
  {
   "cell_type": "code",
   "execution_count": 12,
   "id": "276552f5-43a7-448e-aef8-a48b118f1605",
   "metadata": {},
   "outputs": [
    {
     "name": "stdout",
     "output_type": "stream",
     "text": [
      "+---------+---+----------+------+\n",
      "|     Name|age|Experience|Salary|\n",
      "+---------+---+----------+------+\n",
      "|    Krish| 31|        10| 30000|\n",
      "|Sudhanshu| 30|         8| 25000|\n",
      "|    Sunny| 29|         4| 20000|\n",
      "|     Paul| 24|         3| 20000|\n",
      "|   Harsha| 21|         1| 15000|\n",
      "|  Shubham| 23|         2| 18000|\n",
      "+---------+---+----------+------+\n",
      "\n"
     ]
    }
   ],
   "source": [
    "df_pyspark.show()"
   ]
  },
  {
   "cell_type": "code",
   "execution_count": 13,
   "id": "b8be3c79-ab5b-43e9-ad23-9ef6e80edadc",
   "metadata": {},
   "outputs": [
    {
     "data": {
      "text/plain": [
       "[Row(Name='Krish', age='31', Experience='10', Salary='30000'),\n",
       " Row(Name='Sudhanshu', age='30', Experience='8', Salary='25000'),\n",
       " Row(Name='Sunny', age='29', Experience='4', Salary='20000')]"
      ]
     },
     "execution_count": 13,
     "metadata": {},
     "output_type": "execute_result"
    }
   ],
   "source": [
    "df_pyspark.head(3)"
   ]
  },
  {
   "cell_type": "code",
   "execution_count": 14,
   "id": "e70ed28b-cd55-40d6-9c5e-cb1721cf03cc",
   "metadata": {},
   "outputs": [
    {
     "name": "stdout",
     "output_type": "stream",
     "text": [
      "root\n",
      " |-- Name: string (nullable = true)\n",
      " |-- age: string (nullable = true)\n",
      " |-- Experience: string (nullable = true)\n",
      " |-- Salary: string (nullable = true)\n",
      "\n"
     ]
    }
   ],
   "source": [
    "df_pyspark.printSchema()"
   ]
  },
  {
   "cell_type": "code",
   "execution_count": 15,
   "id": "2da8bdd9-c9ae-47b8-ba7b-a64b8e5fcdfa",
   "metadata": {},
   "outputs": [
    {
     "data": {
      "text/plain": [
       "[('Name', 'string'),\n",
       " ('age', 'string'),\n",
       " ('Experience', 'string'),\n",
       " ('Salary', 'string')]"
      ]
     },
     "execution_count": 15,
     "metadata": {},
     "output_type": "execute_result"
    }
   ],
   "source": [
    "df_pyspark.dtypes"
   ]
  },
  {
   "cell_type": "markdown",
   "id": "4cc30518-7317-4d71-a146-d4afa23a7204",
   "metadata": {},
   "source": [
    "### Read csv with first row header & with default schema"
   ]
  },
  {
   "cell_type": "code",
   "execution_count": 16,
   "id": "c40ff47b-6ad1-4d76-9326-0a5092ae56bc",
   "metadata": {},
   "outputs": [],
   "source": [
    "# inferSchema & header options can be part of option function or can be part of csv function parameters. Both are correct\n",
    "df_pyspark = spark.read.option(\"header\", \"true\").csv(\"test_data/test1.csv\", inferSchema=True)"
   ]
  },
  {
   "cell_type": "code",
   "execution_count": 17,
   "id": "6c32995a-f94e-4960-8f33-35d29b037f0c",
   "metadata": {},
   "outputs": [
    {
     "name": "stdout",
     "output_type": "stream",
     "text": [
      "+---------+---+----------+------+\n",
      "|     Name|age|Experience|Salary|\n",
      "+---------+---+----------+------+\n",
      "|    Krish| 31|        10| 30000|\n",
      "|Sudhanshu| 30|         8| 25000|\n",
      "|    Sunny| 29|         4| 20000|\n",
      "|     Paul| 24|         3| 20000|\n",
      "|   Harsha| 21|         1| 15000|\n",
      "|  Shubham| 23|         2| 18000|\n",
      "+---------+---+----------+------+\n",
      "\n"
     ]
    }
   ],
   "source": [
    "df_pyspark.show()"
   ]
  },
  {
   "cell_type": "code",
   "execution_count": 18,
   "id": "0ec1c466-e310-4df9-bf73-30890488e3bc",
   "metadata": {},
   "outputs": [
    {
     "name": "stdout",
     "output_type": "stream",
     "text": [
      "root\n",
      " |-- Name: string (nullable = true)\n",
      " |-- age: integer (nullable = true)\n",
      " |-- Experience: integer (nullable = true)\n",
      " |-- Salary: integer (nullable = true)\n",
      "\n"
     ]
    }
   ],
   "source": [
    "df_pyspark.printSchema()"
   ]
  },
  {
   "cell_type": "markdown",
   "id": "b2abee1e-5d7f-4dba-a6b7-f8f13591649d",
   "metadata": {},
   "source": [
    "### Selecting columns"
   ]
  },
  {
   "cell_type": "code",
   "execution_count": 19,
   "id": "b5a4c832-38f1-4432-afcf-78ebc5bce4aa",
   "metadata": {},
   "outputs": [],
   "source": [
    "df_pyspark_name_column = df_pyspark.select(\"Name\")"
   ]
  },
  {
   "cell_type": "code",
   "execution_count": 20,
   "id": "5b8b3362-1b61-44c5-b0c2-0a582e8298aa",
   "metadata": {},
   "outputs": [
    {
     "name": "stdout",
     "output_type": "stream",
     "text": [
      "+---------+\n",
      "|     Name|\n",
      "+---------+\n",
      "|    Krish|\n",
      "|Sudhanshu|\n",
      "|    Sunny|\n",
      "|     Paul|\n",
      "|   Harsha|\n",
      "|  Shubham|\n",
      "+---------+\n",
      "\n"
     ]
    }
   ],
   "source": [
    "df_pyspark_name_column.show()"
   ]
  },
  {
   "cell_type": "code",
   "execution_count": 21,
   "id": "c1c395be-730d-4e50-8135-308db06dd5db",
   "metadata": {},
   "outputs": [
    {
     "data": {
      "text/plain": [
       "pyspark.sql.dataframe.DataFrame"
      ]
     },
     "execution_count": 21,
     "metadata": {},
     "output_type": "execute_result"
    }
   ],
   "source": [
    "type(df_pyspark_name_column)"
   ]
  },
  {
   "cell_type": "markdown",
   "id": "a5ea9f3b-3ad9-472c-bf82-97a85c3c3927",
   "metadata": {},
   "source": [
    "#### Selecting multiple columns"
   ]
  },
  {
   "cell_type": "code",
   "execution_count": 22,
   "id": "7876b021-c9a9-4faa-94d6-4aaf2856f31c",
   "metadata": {},
   "outputs": [
    {
     "name": "stdout",
     "output_type": "stream",
     "text": [
      "+---------+---+\n",
      "|     Name|age|\n",
      "+---------+---+\n",
      "|    Krish| 31|\n",
      "|Sudhanshu| 30|\n",
      "|    Sunny| 29|\n",
      "|     Paul| 24|\n",
      "|   Harsha| 21|\n",
      "|  Shubham| 23|\n",
      "+---------+---+\n",
      "\n"
     ]
    }
   ],
   "source": [
    "df_pyspark.select([\"Name\", \"age\"]).show()"
   ]
  },
  {
   "cell_type": "markdown",
   "id": "4a6eec9f-93bd-48b8-b969-fd313ac2afde",
   "metadata": {},
   "source": [
    "#### Selecting all columns"
   ]
  },
  {
   "cell_type": "code",
   "execution_count": 23,
   "id": "f6ae250b-4a8f-48d1-afe0-563719a3ad6e",
   "metadata": {},
   "outputs": [
    {
     "name": "stdout",
     "output_type": "stream",
     "text": [
      "+---------+---+----------+------+\n",
      "|     Name|age|Experience|Salary|\n",
      "+---------+---+----------+------+\n",
      "|    Krish| 31|        10| 30000|\n",
      "|Sudhanshu| 30|         8| 25000|\n",
      "|    Sunny| 29|         4| 20000|\n",
      "|     Paul| 24|         3| 20000|\n",
      "|   Harsha| 21|         1| 15000|\n",
      "|  Shubham| 23|         2| 18000|\n",
      "+---------+---+----------+------+\n",
      "\n"
     ]
    }
   ],
   "source": [
    "df_pyspark.select(\"*\").show()"
   ]
  },
  {
   "cell_type": "markdown",
   "id": "eb6b460a-e125-461e-ab8b-f38673508755",
   "metadata": {},
   "source": [
    "### Describe similar to Pandas"
   ]
  },
  {
   "cell_type": "code",
   "execution_count": 24,
   "id": "53d14377-9d4d-4fd4-9f90-4e5602c327ff",
   "metadata": {},
   "outputs": [
    {
     "name": "stderr",
     "output_type": "stream",
     "text": [
      "23/11/07 13:27:53 WARN SparkStringUtils: Truncated the string representation of a plan since it was too large. This behavior can be adjusted by setting 'spark.sql.debug.maxToStringFields'.\n"
     ]
    },
    {
     "name": "stdout",
     "output_type": "stream",
     "text": [
      "+-------+------+------------------+-----------------+------------------+\n",
      "|summary|  Name|               age|       Experience|            Salary|\n",
      "+-------+------+------------------+-----------------+------------------+\n",
      "|  count|     6|                 6|                6|                 6|\n",
      "|   mean|  NULL|26.333333333333332|4.666666666666667|21333.333333333332|\n",
      "| stddev|  NULL| 4.179314138308661|3.559026084010437| 5354.126134736337|\n",
      "|    min|Harsha|                21|                1|             15000|\n",
      "|    max| Sunny|                31|               10|             30000|\n",
      "+-------+------+------------------+-----------------+------------------+\n",
      "\n"
     ]
    }
   ],
   "source": [
    "df_pyspark_describe = df_pyspark.describe()\n",
    "df_pyspark_describe.show()"
   ]
  },
  {
   "cell_type": "markdown",
   "id": "a5f1bf4d-f122-4d3c-b827-a7f7217b60d8",
   "metadata": {},
   "source": [
    "### Add / Drop columns"
   ]
  },
  {
   "cell_type": "markdown",
   "id": "e2140c63-8351-4a2d-ae35-88e9a464a3e3",
   "metadata": {},
   "source": [
    "#### Add column"
   ]
  },
  {
   "cell_type": "code",
   "execution_count": 25,
   "id": "2c940f04-b971-4879-a7ec-1faf97fcdbbe",
   "metadata": {},
   "outputs": [],
   "source": [
    "# Not an inPlace operation\n",
    "df_pyspark = df_pyspark.withColumn(\"Exp after 2 yrs\", df_pyspark[\"Experience\"]+2)"
   ]
  },
  {
   "cell_type": "code",
   "execution_count": 26,
   "id": "5b0918b4-6d01-4e5a-bcf9-d3e826bc8b82",
   "metadata": {},
   "outputs": [
    {
     "name": "stdout",
     "output_type": "stream",
     "text": [
      "+---------+---+----------+------+---------------+\n",
      "|     Name|age|Experience|Salary|Exp after 2 yrs|\n",
      "+---------+---+----------+------+---------------+\n",
      "|    Krish| 31|        10| 30000|             12|\n",
      "|Sudhanshu| 30|         8| 25000|             10|\n",
      "|    Sunny| 29|         4| 20000|              6|\n",
      "|     Paul| 24|         3| 20000|              5|\n",
      "|   Harsha| 21|         1| 15000|              3|\n",
      "|  Shubham| 23|         2| 18000|              4|\n",
      "+---------+---+----------+------+---------------+\n",
      "\n"
     ]
    }
   ],
   "source": [
    "df_pyspark.show()"
   ]
  },
  {
   "cell_type": "markdown",
   "id": "766b7c8f-b95b-4d28-af77-80e91660c1bd",
   "metadata": {},
   "source": [
    "#### Drop column"
   ]
  },
  {
   "cell_type": "code",
   "execution_count": 27,
   "id": "dff84c75-e6b0-4b41-8453-f8c7a9186cf0",
   "metadata": {},
   "outputs": [],
   "source": [
    "# Not an inPlace operation\n",
    "df_pyspark = df_pyspark.drop(\"Exp after 2 yrs\")"
   ]
  },
  {
   "cell_type": "code",
   "execution_count": 28,
   "id": "f5bb7969-3c53-4abe-b23a-7763679d8ea0",
   "metadata": {},
   "outputs": [
    {
     "name": "stdout",
     "output_type": "stream",
     "text": [
      "+---------+---+----------+------+\n",
      "|     Name|age|Experience|Salary|\n",
      "+---------+---+----------+------+\n",
      "|    Krish| 31|        10| 30000|\n",
      "|Sudhanshu| 30|         8| 25000|\n",
      "|    Sunny| 29|         4| 20000|\n",
      "|     Paul| 24|         3| 20000|\n",
      "|   Harsha| 21|         1| 15000|\n",
      "|  Shubham| 23|         2| 18000|\n",
      "+---------+---+----------+------+\n",
      "\n"
     ]
    }
   ],
   "source": [
    "df_pyspark.show()"
   ]
  },
  {
   "cell_type": "markdown",
   "id": "3d421628-d9d3-4291-a3de-cb34e041cbc9",
   "metadata": {},
   "source": [
    "### Rename columns"
   ]
  },
  {
   "cell_type": "code",
   "execution_count": 29,
   "id": "5669b8e8-acd1-49be-83dc-1f49467b0165",
   "metadata": {},
   "outputs": [
    {
     "name": "stdout",
     "output_type": "stream",
     "text": [
      "+------------+---+----------+------+\n",
      "|Updated Name|age|Experience|Salary|\n",
      "+------------+---+----------+------+\n",
      "|       Krish| 31|        10| 30000|\n",
      "|   Sudhanshu| 30|         8| 25000|\n",
      "|       Sunny| 29|         4| 20000|\n",
      "|        Paul| 24|         3| 20000|\n",
      "|      Harsha| 21|         1| 15000|\n",
      "|     Shubham| 23|         2| 18000|\n",
      "+------------+---+----------+------+\n",
      "\n"
     ]
    }
   ],
   "source": [
    "# Not an inPlace operation\n",
    "df_pyspark.withColumnRenamed(\"Name\", \"Updated Name\").show()"
   ]
  },
  {
   "cell_type": "code",
   "execution_count": null,
   "id": "e643d6f2-3e8c-4785-b940-265f1dc21838",
   "metadata": {},
   "outputs": [],
   "source": []
  },
  {
   "cell_type": "code",
   "execution_count": null,
   "id": "67a95ac2-ba72-4a98-9280-30a128943902",
   "metadata": {},
   "outputs": [],
   "source": []
  },
  {
   "cell_type": "code",
   "execution_count": null,
   "id": "56029f43-8f26-46b2-bf2e-303e14caf833",
   "metadata": {},
   "outputs": [],
   "source": []
  },
  {
   "cell_type": "code",
   "execution_count": null,
   "id": "f04915ba-7f88-4167-bb35-fb31e236de5e",
   "metadata": {},
   "outputs": [],
   "source": []
  },
  {
   "cell_type": "code",
   "execution_count": null,
   "id": "415f39ec-d982-4858-bc68-1b4c3e32ddf9",
   "metadata": {},
   "outputs": [],
   "source": []
  },
  {
   "cell_type": "code",
   "execution_count": null,
   "id": "b2207dc8-3018-49cb-a8fa-3de78d2f0636",
   "metadata": {},
   "outputs": [],
   "source": []
  },
  {
   "cell_type": "markdown",
   "id": "ba92388b-551f-4dc5-a9b2-6725bed8ea55",
   "metadata": {},
   "source": [
    "- Dropping columns\n",
    "- Dropping Rows\n",
    "- Various parameters in dropping functionalities\n",
    "- Handling missing values by mean"
   ]
  },
  {
   "cell_type": "code",
   "execution_count": null,
   "id": "84436318-c23e-447b-b9a8-4f65c4f9945e",
   "metadata": {},
   "outputs": [],
   "source": []
  }
 ],
 "metadata": {
  "kernelspec": {
   "display_name": "Python 3 (ipykernel)",
   "language": "python",
   "name": "python3"
  },
  "language_info": {
   "codemirror_mode": {
    "name": "ipython",
    "version": 3
   },
   "file_extension": ".py",
   "mimetype": "text/x-python",
   "name": "python",
   "nbconvert_exporter": "python",
   "pygments_lexer": "ipython3",
   "version": "3.9.6"
  }
 },
 "nbformat": 4,
 "nbformat_minor": 5
}
